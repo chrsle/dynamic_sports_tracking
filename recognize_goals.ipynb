{
 "cells": [
  {
   "cell_type": "code",
   "execution_count": null,
   "metadata": {},
   "outputs": [],
   "source": [
    "import tensorflow as tf\n",
    "import cv2\n",
    "import numpy as np\n",
    "from object_detection.utils import label_map_util\n",
    "from object_detection.utils import visualization_utils as viz_utils\n",
    "\n",
    "class GoalRecognizer:\n",
    "    def __init__(self, model_path, label_map_path):\n",
    "        self.detection_model = tf.saved_model.load(model_path)\n",
    "        self.category_index = label_map_util.create_category_index_from_labelmap(label_map_path, use_display_name=True)\n",
    "\n",
    "    def recognize_goal(self, image_np):\n",
    "        input_tensor = tf.convert_to_tensor(image_np)\n",
    "        detections = self.detection_model(input_tensor)\n",
    "        num_detections = int(detections.pop('num_detections'))\n",
    "        detections = {key: value[0, :num_detections].numpy() for key, value in detections.items()}\n",
    "        detections['num_detections'] = num_detections\n",
    "        detections['detection_classes'] = detections['detection_classes'].astype(np.int64)\n",
    "\n",
    "        image_np_with_detections = image_np.copy()\n",
    "        viz_utils.visualize_boxes_and_labels_on_image_array(\n",
    "            image_np_with_detections,\n",
    "            detections['detection_boxes'],\n",
    "            detections['detection_classes'],\n",
    "            detections['detection_scores'],\n",
    "            self.category_index,\n",
    "            use_normalized_coordinates=True,\n",
    "            max_boxes_to_draw=200,\n",
    "            min_score_thresh=.30,\n",
    "            agnostic_mode=False)\n",
    "\n",
    "        return image_np_with_detections\n",
    "\n",
    "if __name__ == \"__main__\":\n",
    "    recognizer = GoalRecognizer('exported-models/my_model/saved_model', 'label_map.pbtxt')\n",
    "\n",
    "    cap = cv2.VideoCapture('test_footage.mp4')\n",
    "    while(cap.isOpened()):\n",
    "        ret, frame = cap.read()\n",
    "        if not ret:\n",
    "            break\n",
    "\n",
    "        frame_rgb = cv2.cvtColor(frame, cv2.COLOR_BGR2RGB)\n",
    "        result = recognizer.recognize_goal(frame_rgb)\n",
    "\n",
    "        cv2.imshow('frame', cv2.cvtColor(result, cv2.COLOR_RGB2BGR))\n",
    "        if cv2.waitKey(1) & 0xFF == ord('q'):\n",
    "            break\n",
    "\n",
    "    cap.release()\n",
    "    cv2.destroyAllWindows()\n"
   ]
  }
 ],
 "metadata": {
  "kernelspec": {
   "display_name": "Python 3",
   "language": "python",
   "name": "python3"
  },
  "language_info": {
   "codemirror_mode": {
    "name": "ipython",
    "version": 3
   },
   "file_extension": ".py",
   "mimetype": "text/x-python",
   "name": "python",
   "nbconvert_exporter": "python",
   "pygments_lexer": "ipython3",
   "version": "3.8.1"
  }
 },
 "nbformat": 4,
 "nbformat_minor": 4
}
