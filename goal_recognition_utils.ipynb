{
 "cells": [
  {
   "cell_type": "code",
   "execution_count": null,
   "metadata": {},
   "outputs": [],
   "source": [
    "import tensorflow as tf\n",
    "import cv2\n",
    "import numpy as np\n",
    "from object_detection.utils import label_map_util\n",
    "from object_detection.utils import visualization_utils as viz_utils\n",
    "\n",
    "def load_model(model_path):\n",
    "    \"\"\"\n",
    "    Load a trained model from the specified path.\n",
    "    \"\"\"\n",
    "    return tf.saved_model.load(model_path)\n",
    "\n",
    "def load_label_map(label_map_path):\n",
    "    \"\"\"\n",
    "    Load a label map from a .pbtxt file.\n",
    "    \"\"\"\n",
    "    label_map = label_map_util.load_labelmap(label_map_path)\n",
    "    categories = label_map_util.convert_label_map_to_categories(label_map, max_num_classes=90, use_display_name=True)\n",
    "    return label_map_util.create_category_index(categories)\n",
    "\n",
    "def process_video(model, category_index, video_path):\n",
    "    \"\"\"\n",
    "    Process a video file and return the frames with goal detections visualized.\n",
    "    \"\"\"\n",
    "    cap = cv2.VideoCapture(video_path)\n",
    "    while(cap.isOpened()):\n",
    "        ret, frame = cap.read()\n",
    "        if not ret:\n",
    "            break\n",
    "\n",
    "        frame_rgb = cv2.cvtColor(frame, cv2.COLOR_BGR2RGB)\n",
    "        input_tensor = tf.convert_to_tensor(frame_rgb)\n",
    "        detections = model(input_tensor)\n",
    "\n",
    "        num_detections = int(detections.pop('num_detections'))\n",
    "        detections = {key: value[0, :num_detections].numpy() for key, value in detections.items()}\n",
    "        detections['num_detections'] = num_detections\n",
    "        detections['detection_classes'] = detections['detection_classes'].astype(np.int64)\n",
    "\n",
    "        frame_rgb_with_detections = frame_rgb.copy()\n",
    "        viz_utils.visualize_boxes_and_labels_on_image_array(\n",
    "            frame_rgb_with_detections,\n",
    "            detections['detection_boxes'],\n",
    "            detections['detection_classes'],\n",
    "            detections['detection_scores'],\n",
    "            category_index,\n",
    "            use_normalized_coordinates=True,\n",
    "            max_boxes_to_draw=200,\n",
    "            min_score_thresh=.30,\n",
    "            agnostic_mode=False)\n",
    "\n",
    "        yield cv2.cvtColor(frame_rgb_with_detections, cv2.COLOR_RGB2BGR)\n",
    "\n",
    "    cap.release()\n"
   ]
  }
 ],
 "metadata": {
  "kernelspec": {
   "display_name": "Python 3",
   "language": "python",
   "name": "python3"
  },
  "language_info": {
   "codemirror_mode": {
    "name": "ipython",
    "version": 3
   },
   "file_extension": ".py",
   "mimetype": "text/x-python",
   "name": "python",
   "nbconvert_exporter": "python",
   "pygments_lexer": "ipython3",
   "version": "3.8.1"
  }
 },
 "nbformat": 4,
 "nbformat_minor": 4
}
