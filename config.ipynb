{
 "cells": [
  {
   "cell_type": "code",
   "execution_count": null,
   "metadata": {},
   "outputs": [],
   "source": [
    "import configparser\n",
    "\n",
    "class Config:\n",
    "    def __init__(self, config_file):\n",
    "        self.config = configparser.ConfigParser()\n",
    "        self.config.read(config_file)\n",
    "\n",
    "    @property\n",
    "    def database_config(self):\n",
    "        return self.config['DATABASE']\n",
    "\n",
    "    @property\n",
    "    def model_config(self):\n",
    "        return self.config['MODEL']\n",
    "\n",
    "    @property\n",
    "    def training_config(self):\n",
    "        return self.config['TRAINING']\n",
    "\n",
    "    @property\n",
    "    def evaluation_config(self):\n",
    "        return self.config['EVALUATION']\n",
    "\n",
    "\n",
    "if __name__ == \"__main__\":\n",
    "    config = Config('dynamic_sports_tracking/config.ini')\n",
    "\n",
    "    print(\"Database config: \", config.database_config)\n",
    "    print(\"Model config: \", config.model_config)\n",
    "    print(\"Training config: \", config.training_config)\n",
    "    print(\"Evaluation config: \", config.evaluation_config)\n"
   ]
  }
 ],
 "metadata": {
  "kernelspec": {
   "display_name": "Python 3",
   "language": "python",
   "name": "python3"
  },
  "language_info": {
   "codemirror_mode": {
    "name": "ipython",
    "version": 3
   },
   "file_extension": ".py",
   "mimetype": "text/x-python",
   "name": "python",
   "nbconvert_exporter": "python",
   "pygments_lexer": "ipython3",
   "version": "3.8.1"
  }
 },
 "nbformat": 4,
 "nbformat_minor": 4
}
