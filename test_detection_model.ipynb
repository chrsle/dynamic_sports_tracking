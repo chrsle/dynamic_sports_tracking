{
 "cells": [
  {
   "cell_type": "code",
   "execution_count": null,
   "metadata": {},
   "outputs": [],
   "source": [
    "import cv2\n",
    "import argparse\n",
    "from detection_model_utils import load_model, run_inference_for_single_image\n",
    "\n",
    "def parse_args():\n",
    "    parser = argparse.ArgumentParser()\n",
    "    parser.add_argument('--model_path', type=str, required=True, help='Path to the trained model.')\n",
    "    parser.add_argument('--test_image', type=str, required=True, help='Path to the test image.')\n",
    "    return parser.parse_args()\n",
    "\n",
    "def main():\n",
    "    args = parse_args()\n",
    "    \n",
    "    # Load the trained model\n",
    "    model = load_model(args.model_path)\n",
    "\n",
    "    # Load the test image\n",
    "    test_image = cv2.imread(args.test_image)\n",
    "\n",
    "    # Run inference on the test image\n",
    "    output_dict = run_inference_for_single_image(model, test_image)\n",
    "\n",
    "    # Print the output_dict\n",
    "    print(output_dict)\n",
    "\n",
    "if __name__ == \"__main__\":\n",
    "    main()\n"
   ]
  }
 ],
 "metadata": {
  "kernelspec": {
   "display_name": "Python 3",
   "language": "python",
   "name": "python3"
  },
  "language_info": {
   "codemirror_mode": {
    "name": "ipython",
    "version": 3
   },
   "file_extension": ".py",
   "mimetype": "text/x-python",
   "name": "python",
   "nbconvert_exporter": "python",
   "pygments_lexer": "ipython3",
   "version": "3.8.1"
  }
 },
 "nbformat": 4,
 "nbformat_minor": 4
}
