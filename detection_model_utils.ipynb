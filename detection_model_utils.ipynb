{
 "cells": [
  {
   "cell_type": "code",
   "execution_count": null,
   "metadata": {},
   "outputs": [],
   "source": [
    "import tensorflow as tf\n",
    "from object_detection.utils import dataset_util, label_map_util\n",
    "from object_detection.protos import pipeline_pb2\n",
    "from google.protobuf import text_format\n",
    "\n",
    "def load_image_into_numpy_array(image):\n",
    "    \"\"\"\n",
    "    Load an image into a numpy array.\n",
    "    \"\"\"\n",
    "    (im_width, im_height) = image.size\n",
    "    return np.array(image.getdata()).reshape(\n",
    "        (im_height, im_width, 3)).astype(np.uint8)\n",
    "\n",
    "def create_tf_example(example):\n",
    "    \"\"\"\n",
    "    Create a tf.Example from a dictionary example.\n",
    "    \"\"\"\n",
    "    # TODO: Fill in this function with your own code for creating a tf.Example\n",
    "    pass\n",
    "\n",
    "def create_tf_record(output_filename, examples):\n",
    "    \"\"\"\n",
    "    Create a TFRecord file from a list of examples.\n",
    "    \"\"\"\n",
    "    writer = tf.io.TFRecordWriter(output_filename)\n",
    "    for example in examples:\n",
    "        tf_example = create_tf_example(example)\n",
    "        writer.write(tf_example.SerializeToString())\n",
    "    writer.close()\n",
    "\n",
    "def load_label_map(label_map_path):\n",
    "    \"\"\"\n",
    "    Load a label map from a .pbtxt file.\n",
    "    \"\"\"\n",
    "    label_map = label_map_util.load_labelmap(label_map_path)\n",
    "    categories = label_map_util.convert_label_map_to_categories(label_map, max_num_classes=90, use_display_name=True)\n",
    "    category_index = label_map_util.create_category_index(categories)\n",
    "    return category_index\n",
    "\n",
    "def load_config(config_path):\n",
    "    \"\"\"\n",
    "    Load a pipeline config from a .config file.\n",
    "    \"\"\"\n",
    "    pipeline_config = pipeline_pb2.TrainEvalPipelineConfig()\n",
    "    with tf.io.gfile.GFile(config_path, \"r\") as f:\n",
    "        proto_str = f.read()\n",
    "        text_format.Merge(proto_str, pipeline_config)\n",
    "    return pipeline_config\n"
   ]
  }
 ],
 "metadata": {
  "kernelspec": {
   "display_name": "Python 3",
   "language": "python",
   "name": "python3"
  },
  "language_info": {
   "codemirror_mode": {
    "name": "ipython",
    "version": 3
   },
   "file_extension": ".py",
   "mimetype": "text/x-python",
   "name": "python",
   "nbconvert_exporter": "python",
   "pygments_lexer": "ipython3",
   "version": "3.8.1"
  }
 },
 "nbformat": 4,
 "nbformat_minor": 4
}
