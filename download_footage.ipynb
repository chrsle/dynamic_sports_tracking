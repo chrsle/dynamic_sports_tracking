{
 "cells": [
  {
   "cell_type": "code",
   "execution_count": null,
   "metadata": {},
   "outputs": [],
   "source": [
    "import requests\n",
    "import argparse\n",
    "import logging\n",
    "from tqdm import tqdm\n",
    "\n",
    "def download_video(url, filename):\n",
    "    \"\"\"\n",
    "    Downloads a video from a direct URL.\n",
    "    \"\"\"\n",
    "    try:\n",
    "        # Send a HTTP request to the URL of the video\n",
    "        response = requests.get(url, stream=True)\n",
    "        response.raise_for_status()  # Raise an exception if the GET request was unsuccessful\n",
    "\n",
    "        # Get the total size of the video in bytes\n",
    "        total_size = int(response.headers.get('content-length', 0))\n",
    "\n",
    "        # Open the file in write and binary mode\n",
    "        with open(filename, 'wb') as video, tqdm(\n",
    "            desc=filename,\n",
    "            total=total_size,\n",
    "            unit='B',\n",
    "            unit_scale=True,\n",
    "            unit_divisor=1024,\n",
    "        ) as bar:\n",
    "            for chunk in response.iter_content(chunk_size=1024):\n",
    "                size = video.write(chunk)\n",
    "                bar.update(size)\n",
    "\n",
    "        logging.info(f\"Video downloaded successfully: {filename}\")\n",
    "\n",
    "    except requests.exceptions.RequestException as e:\n",
    "        logging.error(f\"Failed to download video: {e}\")\n",
    "        raise SystemExit(e)\n",
    "\n",
    "if __name__ == \"__main__\":\n",
    "    parser = argparse.ArgumentParser(description=\"Video Downloader\")\n",
    "    parser.add_argument(\"url\", help=\"URL of the video to download\")\n",
    "    parser.add_argument(\"filename\", help=\"Filename to save the video as\")\n",
    "    args = parser.parse_args()\n",
    "\n",
    "    download_video(args.url, args.filename)\n"
   ]
  }
 ],
 "metadata": {
  "kernelspec": {
   "display_name": "Python 3",
   "language": "python",
   "name": "python3"
  },
  "language_info": {
   "codemirror_mode": {
    "name": "ipython",
    "version": 3
   },
   "file_extension": ".py",
   "mimetype": "text/x-python",
   "name": "python",
   "nbconvert_exporter": "python",
   "pygments_lexer": "ipython3",
   "version": "3.8.1"
  }
 },
 "nbformat": 4,
 "nbformat_minor": 4
}
