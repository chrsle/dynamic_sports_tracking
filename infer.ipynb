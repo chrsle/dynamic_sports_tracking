{
 "cells": [
  {
   "cell_type": "code",
   "execution_count": null,
   "metadata": {},
   "outputs": [],
   "source": [
    "import cv2\n",
    "import argparse\n",
    "import numpy as np\n",
    "from detection_model_utils import load_model, load_label_map\n",
    "from recognize_goals import recognize_goals\n",
    "\n",
    "def parse_args():\n",
    "    parser = argparse.ArgumentParser()\n",
    "    parser.add_argument('--input_video', type=str, required=True, \n",
    "                        help='Path to the input video file.')\n",
    "    return parser.parse_args()\n",
    "\n",
    "def main():\n",
    "    args = parse_args()\n",
    "    model, category_index = load_model(), load_label_map()\n",
    "\n",
    "    # Load the video.\n",
    "    cap = cv2.VideoCapture(args.input_video)\n",
    "    fps = cap.get(cv2.CAP_PROP_FPS)\n",
    "    frame_count = 0\n",
    "\n",
    "    while cap.isOpened():\n",
    "        ret, frame = cap.read()\n",
    "\n",
    "        if not ret:\n",
    "            print(\"Can't receive frame (stream end?). Exiting ...\")\n",
    "            break\n",
    "\n",
    "        # Convert the image from BGR color (which OpenCV uses) to RGB color.\n",
    "        frame_rgb = cv2.cvtColor(frame, cv2.COLOR_BGR2RGB)\n",
    "        frame_expanded = np.expand_dims(frame_rgb, axis=0)\n",
    "\n",
    "        # Perform detection\n",
    "        output_dict = model(frame_expanded)\n",
    "\n",
    "        # Recognize goals\n",
    "        goal_event = recognize_goals(output_dict, category_index)\n",
    "\n",
    "        if goal_event:\n",
    "            print(f\"Goal detected at frame {frame_count}\")\n",
    "\n",
    "        frame_count += 1\n",
    "\n",
    "    # Release the video file\n",
    "    cap.release()\n",
    "\n",
    "if __name__ == '__main__':\n",
    "    main()\n"
   ]
  }
 ],
 "metadata": {
  "kernelspec": {
   "display_name": "Python 3",
   "language": "python",
   "name": "python3"
  },
  "language_info": {
   "codemirror_mode": {
    "name": "ipython",
    "version": 3
   },
   "file_extension": ".py",
   "mimetype": "text/x-python",
   "name": "python",
   "nbconvert_exporter": "python",
   "pygments_lexer": "ipython3",
   "version": "3.8.1"
  }
 },
 "nbformat": 4,
 "nbformat_minor": 4
}
