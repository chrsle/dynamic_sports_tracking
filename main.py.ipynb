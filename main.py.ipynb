{
 "cells": [
  {
   "cell_type": "code",
   "execution_count": null,
   "metadata": {},
   "outputs": [],
   "source": [
    "import cv2\n",
    "\n",
    "# Load the SSD deep learning model\n",
    "model_path = \"frozen_inference_graph.pb\"\n",
    "config_path = \"ssd_mobilenet_v3_large_coco_2020_01_14.pbtxt\"\n",
    "net = cv2.dnn_DetectionModel(model_path, config_path)\n",
    "net.setInputSize(320, 320)\n",
    "net.setInputScale(1.0 / 127.5)\n",
    "net.setInputMean((127.5, 127.5, 127.5))\n",
    "net.setInputSwapRB(True)\n",
    "\n",
    "# Load the video\n",
    "video_path = \"hockey_game.mp4\"\n",
    "cap = cv2.VideoCapture(video_path)\n",
    "\n",
    "# Create the tracker object\n",
    "tracker = cv2.TrackerKCF_create()\n",
    "\n",
    "# Loop through each frame of the video\n",
    "while True:\n",
    "    ret, frame = cap.read()\n",
    "    if not ret:\n",
    "        break\n",
    "\n",
    "    # Detect players in the current frame\n",
    "    class_ids, confidences, boxes = net.detect(frame, confThreshold=0.5, nmsThreshold=0.4)\n",
    "\n",
    "    # Track players using the KCF tracker\n",
    "    for box in boxes:\n",
    "        x, y, w, h = box\n",
    "        tracker.init(frame, (x, y, w, h))\n",
    "        ok, bbox = tracker.update(frame)\n",
    "        if ok:\n",
    "            cv2.rectangle(frame, (int(bbox[0]), int(bbox[1])), (int(bbox[0] + bbox[2]), int(bbox[1] + bbox[3])), (0, 255, 0), 2)\n",
    "\n",
    "    # Show the current frame with player boxes and tracking results\n",
    "    cv2.imshow('frame', frame)\n",
    "    if cv2.waitKey(1) == ord('q'):\n",
    "        break\n",
    "\n",
    "# Release the video and close the windows\n",
    "cap.release()\n",
    "cv2.destroyAllWindows()"
   ]
  }
 ],
 "metadata": {
  "kernelspec": {
   "display_name": "Python 3",
   "language": "python",
   "name": "python3"
  },
  "language_info": {
   "codemirror_mode": {
    "name": "ipython",
    "version": 3
   },
   "file_extension": ".py",
   "mimetype": "text/x-python",
   "name": "python",
   "nbconvert_exporter": "python",
   "pygments_lexer": "ipython3",
   "version": "3.8.1"
  }
 },
 "nbformat": 4,
 "nbformat_minor": 4
}
