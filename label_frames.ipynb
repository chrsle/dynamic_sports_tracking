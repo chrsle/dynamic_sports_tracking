{
 "cells": [
  {
   "cell_type": "code",
   "execution_count": null,
   "metadata": {},
   "outputs": [],
   "source": [
    "import os\n",
    "import cv2\n",
    "import argparse\n",
    "import logging\n",
    "from tqdm import tqdm\n",
    "\n",
    "# setup logging\n",
    "logging.basicConfig(level=logging.INFO, format='%(asctime)s - %(levelname)s - %(message)s')\n",
    "\n",
    "def label_frames(input_dir, output_dir):\n",
    "    \"\"\"\n",
    "    Label frames with their filename (without extension).\n",
    "    \"\"\"\n",
    "    # ensure output directory exists\n",
    "    if not os.path.exists(output_dir):\n",
    "        os.makedirs(output_dir)\n",
    "\n",
    "    # loop over all files in the input directory\n",
    "    for filename in tqdm(os.listdir(input_dir), desc='Labeling frames', unit='frame'):\n",
    "        # construct full file path\n",
    "        file_path = os.path.join(input_dir, filename)\n",
    "\n",
    "        # load the image\n",
    "        image = cv2.imread(file_path)\n",
    "        if image is None:\n",
    "            logging.warning(f\"Could not load image: {filename}\")\n",
    "            continue\n",
    "\n",
    "        # label the image\n",
    "        label = os.path.splitext(filename)[0]  # filename without extension\n",
    "        cv2.putText(image, label, (10, 30), cv2.FONT_HERSHEY_SIMPLEX, 1, (255, 255, 255), 2)\n",
    "\n",
    "        # save the image\n",
    "        output_path = os.path.join(output_dir, filename)\n",
    "        cv2.imwrite(output_path, image)\n",
    "        logging.info(f\"Labeled image saved: {output_path}\")\n",
    "\n",
    "if __name__ == \"__main__\":\n",
    "    parser = argparse.ArgumentParser(description=\"Frame Labeller\")\n",
    "    parser.add_argument(\"input\", help=\"Directory containing frames\")\n",
    "    parser.add_argument(\"output\", help=\"Directory to save labeled frames\")\n",
    "    args = parser.parse_args()\n",
    "\n",
    "    label_frames(args.input, args.output)\n"
   ]
  }
 ],
 "metadata": {
  "kernelspec": {
   "display_name": "Python 3",
   "language": "python",
   "name": "python3"
  },
  "language_info": {
   "codemirror_mode": {
    "name": "ipython",
    "version": 3
   },
   "file_extension": ".py",
   "mimetype": "text/x-python",
   "name": "python",
   "nbconvert_exporter": "python",
   "pygments_lexer": "ipython3",
   "version": "3.8.1"
  }
 },
 "nbformat": 4,
 "nbformat_minor": 4
}
