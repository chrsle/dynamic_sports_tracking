{
 "cells": [
  {
   "cell_type": "code",
   "execution_count": null,
   "metadata": {},
   "outputs": [],
   "source": [
    "import imgaug.augmenters as iaa\n",
    "import cv2\n",
    "import argparse\n",
    "import os\n",
    "\n",
    "def parse_args():\n",
    "    parser = argparse.ArgumentParser()\n",
    "    parser.add_argument('--input_dir', type=str, required=True,\n",
    "                        help='Directory containing images to augment.')\n",
    "    parser.add_argument('--output_dir', type=str, required=True,\n",
    "                        help='Directory to save augmented images.')\n",
    "    return parser.parse_args()\n",
    "\n",
    "def augment_images(image_dir, output_dir):\n",
    "    # Define a few augmentations\n",
    "    augmenters = iaa.Sequential([\n",
    "        iaa.Rotate((-25, 25)),\n",
    "        iaa.Scale((0.5, 1.5)),\n",
    "        iaa.Fliplr(0.5),  # horizontally flip 50% of the images\n",
    "    ])\n",
    "\n",
    "    # Create the output directory if it doesn't exist\n",
    "    os.makedirs(output_dir, exist_ok=True)\n",
    "\n",
    "    # Loop over each image in the input directory\n",
    "    for filename in os.listdir(image_dir):\n",
    "        if filename.endswith('.jpg') or filename.endswith('.png'):\n",
    "            img = cv2.imread(os.path.join(image_dir, filename))\n",
    "            img_aug = augmenters.augment_image(img)\n",
    "            cv2.imwrite(os.path.join(output_dir, 'aug_' + filename), img_aug)\n",
    "\n",
    "def main():\n",
    "    args = parse_args()\n",
    "    augment_images(args.input_dir, args.output_dir)\n",
    "\n",
    "if __name__ == \"__main__\":\n",
    "    main()\n"
   ]
  }
 ],
 "metadata": {
  "kernelspec": {
   "display_name": "Python 3",
   "language": "python",
   "name": "python3"
  },
  "language_info": {
   "codemirror_mode": {
    "name": "ipython",
    "version": 3
   },
   "file_extension": ".py",
   "mimetype": "text/x-python",
   "name": "python",
   "nbconvert_exporter": "python",
   "pygments_lexer": "ipython3",
   "version": "3.8.1"
  }
 },
 "nbformat": 4,
 "nbformat_minor": 4
}
