{
 "cells": [
  {
   "cell_type": "code",
   "execution_count": null,
   "metadata": {},
   "outputs": [],
   "source": [
    "import cv2\n",
    "\n",
    "def create_trackers(algorithm='CSRT'):\n",
    "    \"\"\"\n",
    "    Function to create an object tracker. CSRT is chosen by default, but this can be changed.\n",
    "    \"\"\"\n",
    "    if algorithm == 'CSRT':\n",
    "        tracker = cv2.TrackerCSRT_create()\n",
    "    elif algorithm == 'KCF':\n",
    "        tracker = cv2.TrackerKCF_create()\n",
    "    elif algorithm == 'MOSSE':\n",
    "        tracker = cv2.TrackerMOSSE_create()\n",
    "    else:\n",
    "        raise ValueError(\"Invalid tracking algorithm\")\n",
    "\n",
    "    return tracker\n",
    "\n",
    "def initialize_tracker(tracker, frame, bbox):\n",
    "    \"\"\"\n",
    "    Function to initialize a tracker with a frame and a bounding box.\n",
    "    \"\"\"\n",
    "    tracker.init(frame, bbox)\n",
    "\n",
    "def update_tracker(tracker, frame):\n",
    "    \"\"\"\n",
    "    Function to update a tracker with a new frame.\n",
    "    \"\"\"\n",
    "    success, bbox = tracker.update(frame)\n",
    "    return success, bbox\n",
    "\n",
    "def draw_tracking_result(frame, bbox, success):\n",
    "    \"\"\"\n",
    "    Function to draw the result of tracking on a frame.\n",
    "    \"\"\"\n",
    "    if success:\n",
    "        # Draw the tracked object\n",
    "        p1 = (int(bbox[0]), int(bbox[1]))\n",
    "        p2 = (int(bbox[0] + bbox[2]), int(bbox[1] + bbox[3]))\n",
    "        cv2.rectangle(frame, p1, p2, (255,0,0), 2, 1)\n",
    "    else:\n",
    "        cv2.putText(frame, \"Tracking failure detected\", (100,80), cv2.FONT_HERSHEY_SIMPLEX, 0.75,(0,0,255),2)\n",
    "\n",
    "    return frame"
   ]
  }
 ],
 "metadata": {
  "kernelspec": {
   "display_name": "Python 3",
   "language": "python",
   "name": "python3"
  },
  "language_info": {
   "codemirror_mode": {
    "name": "ipython",
    "version": 3
   },
   "file_extension": ".py",
   "mimetype": "text/x-python",
   "name": "python",
   "nbconvert_exporter": "python",
   "pygments_lexer": "ipython3",
   "version": "3.8.1"
  }
 },
 "nbformat": 4,
 "nbformat_minor": 4
}
