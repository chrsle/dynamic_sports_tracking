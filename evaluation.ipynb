{
 "cells": [
  {
   "cell_type": "code",
   "execution_count": null,
   "metadata": {},
   "outputs": [],
   "source": [
    "import tensorflow as tf\n",
    "from object_detection.utils import config_util\n",
    "from object_detection.builders import model_builder\n",
    "from object_detection.utils import label_map_util\n",
    "from object_detection.utils import visualization_utils as viz_utils\n",
    "from object_detection.protos import eval_pb2\n",
    "from object_detection.metrics import coco_evaluation\n",
    "from object_detection.builders import eval_builder\n",
    "\n",
    "def main():\n",
    "    # Specify the paths to your pipeline config and evaluation data.\n",
    "    pipeline_config_path = 'path/to/your/pipeline.config'\n",
    "    eval_record_path = 'path/to/your/eval.record'\n",
    "    label_map_path = 'path/to/your/label_map.pbtxt'\n",
    "    model_dir = 'path/to/your/trained/model'\n",
    "\n",
    "    # Load the configuration.\n",
    "    configs = config_util.get_configs_from_pipeline_file(pipeline_config_path)\n",
    "    model_config = configs['model']\n",
    "    eval_config = configs['eval_config']\n",
    "    eval_input_configs = configs['eval_input_configs'][0]\n",
    "\n",
    "    # Update the input configurations with paths to TFRecords and label map.\n",
    "    eval_input_configs.label_map_path = label_map_path\n",
    "    eval_input_configs.tf_record_input_reader.input_path[:] = [eval_record_path]\n",
    "\n",
    "    # Build the model.\n",
    "    detection_model = model_builder.build(model_config=model_config, is_training=False)\n",
    "    detection_model.restore_map(fine_tune_checkpoint_type='detection', load_all_detection_checkpoint_vars=True)\n",
    "\n",
    "    # Load checkpoint of the trained model\n",
    "    checkpoint = tf.train.Checkpoint(model=detection_model)\n",
    "    checkpoint.restore(tf.train.latest_checkpoint(model_dir)).expect_partial()\n",
    "\n",
    "    # Load label map data (for plotting).\n",
    "    label_map = label_map_util.load_labelmap(label_map_path)\n",
    "    categories = label_map_util.convert_label_map_to_categories(label_map, max_num_classes=100, use_display_name=True)\n",
    "    category_index = label_map_util.create_category_index(categories)\n",
    "\n",
    "    # Create evaluator\n",
    "    evaluator_options = eval_pb2.EvaluatorOptions()\n",
    "    evaluator_type = eval_config.metrics_set[0]\n",
    "    evaluator = eval_builder.build(evaluator_options, input_config=eval_input_configs, model_config=model_config, categories=categories)\n",
    "\n",
    "    # Run evaluation\n",
    "    results = evaluator.evaluate(create_input_dict_fn, model_dir, graph_hook_fn=detection_model.get_graph_rewriter_fn())\n",
    "\n",
    "    # Print the results\n",
    "    for key, value in results.items():\n",
    "        print(f'{key}: {value}')\n",
    "\n",
    "if __name__ == '__main__':\n",
    "    main()\n"
   ]
  }
 ],
 "metadata": {
  "kernelspec": {
   "display_name": "Python 3",
   "language": "python",
   "name": "python3"
  },
  "language_info": {
   "codemirror_mode": {
    "name": "ipython",
    "version": 3
   },
   "file_extension": ".py",
   "mimetype": "text/x-python",
   "name": "python",
   "nbconvert_exporter": "python",
   "pygments_lexer": "ipython3",
   "version": "3.8.1"
  }
 },
 "nbformat": 4,
 "nbformat_minor": 4
}
